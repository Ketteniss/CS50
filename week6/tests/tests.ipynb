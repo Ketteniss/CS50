{
 "cells": [
  {
   "cell_type": "code",
   "execution_count": 3,
   "metadata": {},
   "outputs": [
    {
     "name": "stdout",
     "output_type": "stream",
     "text": [
      "Hello, World!\n"
     ]
    }
   ],
   "source": [
    "print(\"Hello, World!\")\n",
    "str = \"Hello, World!\""
   ]
  },
  {
   "cell_type": "code",
   "execution_count": 4,
   "metadata": {},
   "outputs": [
    {
     "ename": "SyntaxError",
     "evalue": "invalid syntax (Temp/ipykernel_11980/3365572343.py, line 2)",
     "output_type": "error",
     "traceback": [
      "\u001b[1;36m  File \u001b[1;32m\"C:\\Users\\Vincent\\AppData\\Local\\Temp/ipykernel_11980/3365572343.py\"\u001b[1;36m, line \u001b[1;32m2\u001b[0m\n\u001b[1;33m    while(d = {Germany, 1500})\u001b[0m\n\u001b[1;37m            ^\u001b[0m\n\u001b[1;31mSyntaxError\u001b[0m\u001b[1;31m:\u001b[0m invalid syntax\n"
     ]
    }
   ],
   "source": [
    "teams = []\n",
    "\n",
    "while(True):\n",
    "    \n",
    "    d = {\"Germany\", 1500}\n",
    "    if (d == False):\n",
    "        break\n",
    "    d[0] = int(d[0])\n",
    "    teams.append(d)\n",
    "    "
   ]
  }
 ],
 "metadata": {
  "interpreter": {
   "hash": "6704566bc40bbf264b4e1401ea4c7e95fc03d63c9d0348b5d1cd4550671ae1b9"
  },
  "kernelspec": {
   "display_name": "Python 3.9.7 64-bit (windows store)",
   "name": "python3"
  },
  "language_info": {
   "codemirror_mode": {
    "name": "ipython",
    "version": 3
   },
   "file_extension": ".py",
   "mimetype": "text/x-python",
   "name": "python",
   "nbconvert_exporter": "python",
   "pygments_lexer": "ipython3",
   "version": "3.9.7"
  },
  "orig_nbformat": 4
 },
 "nbformat": 4,
 "nbformat_minor": 2
}
